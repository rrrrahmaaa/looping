{
 "cells": [
  {
   "cell_type": "code",
   "execution_count": 3,
   "id": "b10f6dd8",
   "metadata": {},
   "outputs": [
    {
     "name": "stdout",
     "output_type": "stream",
     "text": [
      "1 2 3 4 5 6 7 8 9 10 "
     ]
    }
   ],
   "source": [
    "# mencetak angka 1-10\n",
    "\n",
    "for i in range(1,11): \n",
    "    print(i, end=\" \")"
   ]
  },
  {
   "cell_type": "code",
   "execution_count": 4,
   "id": "4ec1a4ef",
   "metadata": {},
   "outputs": [
    {
     "name": "stdout",
     "output_type": "stream",
     "text": [
      "10 20 30 40 50 60 70 80 90 100 "
     ]
    }
   ],
   "source": [
    "# mencetak angka 10 20 30 --- 100\n",
    "\n",
    "for i in range(1,11):\n",
    "    print(i * 10, end=\" \")"
   ]
  },
  {
   "cell_type": "code",
   "execution_count": 5,
   "id": "340a6fbb",
   "metadata": {},
   "outputs": [
    {
     "name": "stdout",
     "output_type": "stream",
     "text": [
      "10 20 30 40 50 60 70 80 90 100 "
     ]
    }
   ],
   "source": [
    "# mencetak angka 10 20 30 --- 100\n",
    "\n",
    "for  i in range(10,101,10):\n",
    "    print(i, end=\" \")"
   ]
  },
  {
   "cell_type": "code",
   "execution_count": 6,
   "id": "54899672",
   "metadata": {},
   "outputs": [
    {
     "name": "stdout",
     "output_type": "stream",
     "text": [
      "10 9 8 7 6 5 4 3 2 1 "
     ]
    }
   ],
   "source": [
    "# mencetak angka 10  9 8 7 --- 1\n",
    "\n",
    "for i in range(1,11):\n",
    "    print(11 - i, end=\" \")"
   ]
  },
  {
   "cell_type": "code",
   "execution_count": 7,
   "id": "4a113f22",
   "metadata": {},
   "outputs": [
    {
     "name": "stdout",
     "output_type": "stream",
     "text": [
      "10 9 8 7 6 5 4 3 2 1 "
     ]
    }
   ],
   "source": [
    "for i in range(10,0,-1):\n",
    "    print(i, end=\" \")"
   ]
  },
  {
   "cell_type": "code",
   "execution_count": 15,
   "id": "8210dacf",
   "metadata": {},
   "outputs": [
    {
     "name": "stdout",
     "output_type": "stream",
     "text": [
      "1 -2 3 -4 5 -6 7 -8 9 -10 "
     ]
    }
   ],
   "source": [
    "# mencetak angka 1 -2 3 -4 5 -6 ---10\n",
    "sign = -1\n",
    "for i in range(1,11):\n",
    "    sign = sign * -1\n",
    "    print(i*sign, end=\" \")"
   ]
  },
  {
   "cell_type": "code",
   "execution_count": 18,
   "id": "3bc484ba",
   "metadata": {},
   "outputs": [
    {
     "name": "stdout",
     "output_type": "stream",
     "text": [
      "isikan bilangan: 6\n",
      "6! adalah 720\n",
      " 6 * 5 * 4 * 3 * 2 * 1 = 720\n"
     ]
    }
   ],
   "source": [
    "# mencari bilangan faktorial\n",
    "# input = 3, output = 3 * 2 * 1 = 6\n",
    "# input = 4, output = 4 * 3 * 2 * 1 = 24\n",
    "\n",
    "bil = int(input('isikan bilangan: '))\n",
    "\n",
    "hasil = 1\n",
    "label =\" \"\n",
    "for i in range(1, bil+1):\n",
    "    hasil = i * hasil\n",
    "    if i < bil:\n",
    "        label = label + str((bil+1) - i) + \" * \"\n",
    "    else:\n",
    "        label = label + str((bil+1) - i) \n",
    "print(f\"{bil}! adalah {hasil}\") \n",
    "print(f\"{label} = {hasil}\")"
   ]
  },
  {
   "cell_type": "code",
   "execution_count": 20,
   "id": "15ab38a3",
   "metadata": {},
   "outputs": [
    {
     "name": "stdout",
     "output_type": "stream",
     "text": [
      "isikan bilangan: 7\n",
      "isikan pangkat: 2\n",
      "7 pangkat 2 adalah 49\n"
     ]
    }
   ],
   "source": [
    "# menghitung pangkat\n",
    "\n",
    "bil = int(input('isikan bilangan: '))\n",
    "pangkat = int(input('isikan pangkat: '))\n",
    "hasil = 1\n",
    "for i in range(1, pangkat+1):\n",
    "    hasil *= bil\n",
    "    \n",
    "print(f\"{bil} pangkat {pangkat} adalah {hasil}\")    "
   ]
  },
  {
   "cell_type": "code",
   "execution_count": 5,
   "id": "0756fdf2",
   "metadata": {},
   "outputs": [
    {
     "name": "stdout",
     "output_type": "stream",
     "text": [
      "isikan bilangan: 6\n",
      "6 adalah bukan bilangan prima\n"
     ]
    }
   ],
   "source": [
    "# mengecek bilangan prima atau bukan\n",
    "# Bil. Prima adalah Bilangan yang hanya habis dibagi dengan 1 dan bilangan itu sendiri => 2 faktor\n",
    "bil = int(input(\"isikan bilangan: \"))\n",
    "keterangan = \"bilangan prima\"\n",
    "for i in range(2, bil):\n",
    "    sisa = bil % i\n",
    "    if sisa == 0:\n",
    "        keterangan = \"bukan bilangan prima\"\n",
    "        break\n",
    "print(f\"{bil} adalah {keterangan}\")\n"
   ]
  },
  {
   "cell_type": "code",
   "execution_count": 8,
   "id": "d1b050c5",
   "metadata": {},
   "outputs": [
    {
     "name": "stdout",
     "output_type": "stream",
     "text": [
      "1 2 3 4 5 \n",
      "1 2 3 4 6 7 8 9 "
     ]
    }
   ],
   "source": [
    "#Break dan continue\n",
    "\n",
    "for i in range(1,100):\n",
    "    print(i,end=\" \")\n",
    "    if i==5:\n",
    "        break\n",
    "\n",
    "print()\n",
    "for j in range(1,10):\n",
    "    if j ==5:\n",
    "        continue\n",
    "    print(j, end=\" \")    "
   ]
  },
  {
   "cell_type": "code",
   "execution_count": 1,
   "id": "d2628abf",
   "metadata": {},
   "outputs": [
    {
     "name": "stdout",
     "output_type": "stream",
     "text": [
      "isikan kalimat: aku sedang belajar coding\n",
      "jumlah huruf a:4\n",
      "jumlah huruf i:1\n",
      "jumlah huruf u:1\n",
      "jumlah huruf e:2\n",
      "jumlah huruf o:1\n",
      "jumlah total huruf vokal: 9\n"
     ]
    }
   ],
   "source": [
    "#looping untuk string menghitung huruf vokal a=?, i=?, u=?, e=?, o=?,\n",
    "kalimat = input(\"isikan kalimat: \")\n",
    "vokal_a = 0\n",
    "vokal_i = 0\n",
    "vokal_u = 0\n",
    "vokal_e = 0\n",
    "vokal_o = 0\n",
    "for i in kalimat:\n",
    "    if i=='a':\n",
    "        vokal_a +=1\n",
    "    elif i=='i':\n",
    "        vokal_i +=1\n",
    "    elif i=='u':\n",
    "        vokal_u +=1\n",
    "    elif i=='e':\n",
    "        vokal_e +=1\n",
    "    elif i=='o':\n",
    "        vokal_o +=1\n",
    "print(f\"jumlah huruf a:{vokal_a}\")\n",
    "print(f\"jumlah huruf i:{vokal_i}\")\n",
    "print(f\"jumlah huruf u:{vokal_u}\")\n",
    "print(f\"jumlah huruf e:{vokal_e}\")\n",
    "print(f\"jumlah huruf o:{vokal_o}\")\n",
    "total = vokal_a + vokal_i + vokal_u + vokal_e + vokal_o\n",
    "print(f\"jumlah total huruf vokal: {total}\")"
   ]
  },
  {
   "cell_type": "code",
   "execution_count": 1,
   "id": "2da9a625",
   "metadata": {},
   "outputs": [
    {
     "name": "stdout",
     "output_type": "stream",
     "text": [
      "isikan kalimat: kakak\n",
      "PALINDROME\n",
      "Apakah mau mengulang program Y/T?: Y\n",
      "isikan kalimat: aku\n",
      "BUKAN PALINDROME\n",
      "Apakah mau mengulang program Y/T?: T\n"
     ]
    }
   ],
   "source": [
    "#Kalimat polindrome atau bukan\n",
    "#polindrome adalah kalimat yang dibaca dari kiri ke kanan == kiri ke kanan\n",
    "#katak => polindrome\n",
    "#kasur rusak => polindrome\n",
    "ulang = \"Y\"\n",
    "while(ulang==\"Y\"):\n",
    "    kalimat = input('isikan kalimat: ')\n",
    "    panjang = len(kalimat)\n",
    "    keterangan = \"PALINDROME\"\n",
    "    for i in range(0,panjang):\n",
    "        kika = kalimat[i].lower()\n",
    "        kaki = kalimat[panjang - i-1]\n",
    "        if kika != kaki: \n",
    "            keterangan = \"BUKAN PALINDROME\"\n",
    "            break\n",
    "    print(f\"{keterangan}\")\n",
    "    \n",
    "    jawab =\" \"\n",
    "    while(jawab!=\"Y\" and jawab!=\"T\"):\n",
    "        jawab = input(\"Apakah mau mengulang program Y/T?: \")\n",
    "    ulang = jawab"
   ]
  },
  {
   "cell_type": "code",
   "execution_count": null,
   "id": "a26b1486",
   "metadata": {},
   "outputs": [],
   "source": [
    "#NEsted FOR\n",
    "\n",
    "for i in range(1,5):\n",
    "    for  j in range(1,5):\n",
    "        print(f\"i:\")"
   ]
  }
 ],
 "metadata": {
  "kernelspec": {
   "display_name": "Python 3 (ipykernel)",
   "language": "python",
   "name": "python3"
  },
  "language_info": {
   "codemirror_mode": {
    "name": "ipython",
    "version": 3
   },
   "file_extension": ".py",
   "mimetype": "text/x-python",
   "name": "python",
   "nbconvert_exporter": "python",
   "pygments_lexer": "ipython3",
   "version": "3.9.12"
  }
 },
 "nbformat": 4,
 "nbformat_minor": 5
}
